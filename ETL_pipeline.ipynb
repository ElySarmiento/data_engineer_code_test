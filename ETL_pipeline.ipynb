{
 "cells": [
  {
   "cell_type": "markdown",
   "metadata": {},
   "source": [
    "IMPORT ALL THE NECESSARY MODULES."
   ]
  },
  {
   "cell_type": "code",
   "execution_count": 10,
   "metadata": {},
   "outputs": [],
   "source": [
    "import pandas as pd\n",
    "import sqlite3 as sql\n",
    "import pyarrow as pa"
   ]
  },
  {
   "cell_type": "markdown",
   "metadata": {},
   "source": [
    "EXTRACT ALL THE DATA FROM DATA SOURCES AND CONFIGURE THE SQL CONNECTION."
   ]
  },
  {
   "cell_type": "code",
   "execution_count": 11,
   "metadata": {},
   "outputs": [],
   "source": [
    "PRICING = pd.read_csv('data/pricing-1.csv')\n",
    "\n",
    "TRANSACTIONS = pd.read_csv('data/transactions-1.csv')\n",
    "\n",
    "USERS = pd.read_csv('data/users-1.csv')\n",
    "\n",
    "db = sql.connect('master.db')\n",
    "cursor = db.cursor()\n"
   ]
  },
  {
   "cell_type": "markdown",
   "metadata": {},
   "source": [
    "TRANSFORMING THE PRICING DATAFRAME(TABLE) BASE ON THE NORMAL DATA HANDLING PROCESS SUCH AS TYPECASTING AND HANDLING THE POSSIBLE NULL VALUES.  "
   ]
  },
  {
   "cell_type": "code",
   "execution_count": 12,
   "metadata": {},
   "outputs": [],
   "source": [
    "\n",
    "PRICING['puk'] = PRICING['puk'].fillna('No PUK available').astype(str)\n",
    "PRICING['product'] = PRICING['product'].fillna('No product name available').astype(str)\n",
    "PRICING['price'] = PRICING['price'].fillna(0).astype(float)\n"
   ]
  },
  {
   "cell_type": "markdown",
   "metadata": {},
   "source": [
    "TRANSFORMING THE TRANSACTIONS DATAFRAME(TABLE) BASE ON THE NORMAL DATA HANDLING PROCESS SUCH AS TYPECASTING, HANDLING THE POSSIBLE NULL VALUES AND CONVERT THE PRODUCT NAME IN TO UPPERCASE AND MANIPULATING THE STRING FOR POSSIBLE ERRORS."
   ]
  },
  {
   "cell_type": "code",
   "execution_count": 13,
   "metadata": {},
   "outputs": [],
   "source": [
    "\n",
    "\n",
    "TRANSACTIONS['trans_id'] = TRANSACTIONS['trans_id'].fillna('No trasaction ID available').astype(str)\n",
    "TRANSACTIONS['user_id'] = TRANSACTIONS['user_id'].fillna('No user ID available').astype(str) \n",
    "TRANSACTIONS['product'] = TRANSACTIONS['product'].fillna('No trasaction ID available').astype(str).str.upper() \n",
    "TRANSACTIONS['amount'] = TRANSACTIONS['amount'].fillna(0).astype(int)\n",
    "TRANSACTIONS['trans_date'] = TRANSACTIONS['trans_date'].str.replace('/','-').fillna(pd.Timestamp('1970-01-01')).astype('datetime64[ns]')\n",
    "\n",
    "\n"
   ]
  },
  {
   "cell_type": "markdown",
   "metadata": {},
   "source": [
    "TRANSFORMING THE USERS DATAFRAME(TABLE) BASE ON THE NORMAL DATA HANDLING PROCESS SUCH AS TYPECASTING, HANDLING THE POSSIBLE NULL VALUES AND CONVERT EMAILS IN TO LOWERCASE. "
   ]
  },
  {
   "cell_type": "code",
   "execution_count": 14,
   "metadata": {},
   "outputs": [],
   "source": [
    "USERS['user_id'] = USERS['user_id'].fillna('No user ID available').astype(str)\n",
    "USERS['name'] = USERS['name'].fillna('No username available').astype(str)\n",
    "USERS['email'] = USERS['email'].fillna('No email available').astype(str).str.lower()\n",
    "USERS['date_joined'] = USERS['date_joined'].fillna('Have not joined yet').astype(str)\n",
    "\n",
    "TOTAL_SPENT = TRANSACTIONS[['user_id','amount']].groupby('user_id').agg({'amount':'sum'}).reset_index()\n",
    "USERS = pd.merge(USERS,TOTAL_SPENT,on='user_id',how='inner')\n",
    "USERS.rename(columns={'amount':'total_spent'}, inplace=True)\n"
   ]
  },
  {
   "cell_type": "markdown",
   "metadata": {},
   "source": [
    "LOAD(SAVE) THE 3 DATAFRAME IN MASTER.DB \n",
    "\n",
    "I CREATE THE TRANSACTIONS TABLE AS INCREMENTAL MODEL  (CHECK THE PROGRAM BELOW)"
   ]
  },
  {
   "cell_type": "code",
   "execution_count": 15,
   "metadata": {},
   "outputs": [
    {
     "data": {
      "text/plain": [
       "5"
      ]
     },
     "execution_count": 15,
     "metadata": {},
     "output_type": "execute_result"
    }
   ],
   "source": [
    "\n",
    "\n",
    "\n",
    "table_name = 'TRANSACTIONS'\n",
    "check = f\"SELECT name FROM sqlite_master WHERE type='table' AND name='{table_name}';\"\n",
    "cursor.execute(check)\n",
    "table_exists = cursor.fetchone()\n",
    "\n",
    "\n",
    "if table_exists:\n",
    "\n",
    "    query = \"SELECT * FROM TRANSACTIONS\"\n",
    "    trans_df = pd.read_sql_query(query,db)\n",
    "\n",
    "    TRANSACTIONS = TRANSACTIONS.loc[TRANSACTIONS['trans_date'] > trans_df['trans_date'].astype('datetime64[ns]').max()]\n",
    "    TRANSACTIONS.to_sql('TRANSACTIONS',db,index=False, if_exists='append')\n",
    "\n",
    "else: TRANSACTIONS.to_sql('TRANSACTIONS',db,index=False)         \n",
    "\n",
    "\n",
    "PRICING.to_sql('PRICING',db,index=False, if_exists='append')\n",
    "USERS.to_sql('USERS',db,index=False, if_exists='append') \n",
    "\n",
    "\n"
   ]
  },
  {
   "cell_type": "markdown",
   "metadata": {},
   "source": [
    "FINALLY LETS CHECK THE QUALITY OF OUR 3 TABLES IN DATABASE BY USING INFO METHOD "
   ]
  },
  {
   "cell_type": "code",
   "execution_count": 16,
   "metadata": {},
   "outputs": [
    {
     "name": "stdout",
     "output_type": "stream",
     "text": [
      "<class 'pandas.core.frame.DataFrame'>\n",
      "RangeIndex: 85 entries, 0 to 84\n",
      "Data columns (total 5 columns):\n",
      " #   Column      Non-Null Count  Dtype \n",
      "---  ------      --------------  ----- \n",
      " 0   trans_id    85 non-null     object\n",
      " 1   user_id     85 non-null     object\n",
      " 2   product     85 non-null     object\n",
      " 3   amount      85 non-null     int64 \n",
      " 4   trans_date  85 non-null     object\n",
      "dtypes: int64(1), object(4)\n",
      "memory usage: 3.4+ KB\n",
      "<class 'pandas.core.frame.DataFrame'>\n",
      "RangeIndex: 10 entries, 0 to 9\n",
      "Data columns (total 5 columns):\n",
      " #   Column       Non-Null Count  Dtype \n",
      "---  ------       --------------  ----- \n",
      " 0   user_id      10 non-null     object\n",
      " 1   name         10 non-null     object\n",
      " 2   email        10 non-null     object\n",
      " 3   date_joined  10 non-null     object\n",
      " 4   total_spent  10 non-null     int64 \n",
      "dtypes: int64(1), object(4)\n",
      "memory usage: 528.0+ bytes\n",
      "<class 'pandas.core.frame.DataFrame'>\n",
      "RangeIndex: 12 entries, 0 to 11\n",
      "Data columns (total 3 columns):\n",
      " #   Column   Non-Null Count  Dtype  \n",
      "---  ------   --------------  -----  \n",
      " 0   puk      12 non-null     object \n",
      " 1   product  12 non-null     object \n",
      " 2   price    12 non-null     float64\n",
      "dtypes: float64(1), object(2)\n",
      "memory usage: 416.0+ bytes\n"
     ]
    }
   ],
   "source": [
    "\n",
    "table_name = ['TRANSACTIONS','USERS','PRICING']\n",
    "\n",
    "for table in table_name: \n",
    "  check = f\"SELECT * FROM '{table}';\"\n",
    "  df = pd.read_sql_query(check,db)\n",
    "  df.info()\n",
    "\n",
    "\n",
    "#PRICING.info()\n",
    "#TRANSACTIONS.info()\n",
    "#USERS.info()\n"
   ]
  },
  {
   "cell_type": "code",
   "execution_count": null,
   "metadata": {},
   "outputs": [],
   "source": []
  }
 ],
 "metadata": {
  "kernelspec": {
   "display_name": "Python 3",
   "language": "python",
   "name": "python3"
  },
  "language_info": {
   "codemirror_mode": {
    "name": "ipython",
    "version": 3
   },
   "file_extension": ".py",
   "mimetype": "text/x-python",
   "name": "python",
   "nbconvert_exporter": "python",
   "pygments_lexer": "ipython3",
   "version": "3.9.10"
  }
 },
 "nbformat": 4,
 "nbformat_minor": 2
}
